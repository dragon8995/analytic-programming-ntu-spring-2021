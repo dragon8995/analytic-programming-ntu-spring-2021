{
 "cells": [
  {
   "cell_type": "markdown",
   "metadata": {
    "slideshow": {
     "slide_type": "slide"
    }
   },
   "source": [
    "# Analytic Programming\n",
    "\n",
    "> Introduction\n",
    "\n",
    "Kuo, Yao-Jen <yaojenkuo@ntu.edu.tw> from [DATAINPOINT](https://www.datainpoint.com/)"
   ]
  },
  {
   "cell_type": "code",
   "execution_count": 1,
   "metadata": {
    "slideshow": {
     "slide_type": "skip"
    }
   },
   "outputs": [],
   "source": [
    "import numpy as np\n",
    "import matplotlib.pyplot as plt\n",
    "import pandas as pd"
   ]
  },
  {
   "cell_type": "markdown",
   "metadata": {
    "slideshow": {
     "slide_type": "subslide"
    }
   },
   "source": [
    "## TL; DR\n",
    "\n",
    "> In this lecture, we will walk through the \"what and why\" about analytic programming. Moreover, a brief introduction to the programming language we will cover in class: Python."
   ]
  },
  {
   "cell_type": "markdown",
   "metadata": {
    "slideshow": {
     "slide_type": "slide"
    }
   },
   "source": [
    "## What is analytic programming"
   ]
  },
  {
   "cell_type": "markdown",
   "metadata": {
    "slideshow": {
     "slide_type": "subslide"
    }
   },
   "source": [
    "## This is just a fancy word for modern data science in order to confuse you."
   ]
  },
  {
   "cell_type": "markdown",
   "metadata": {
    "slideshow": {
     "slide_type": "subslide"
    }
   },
   "source": [
    "## So what is modern data science?"
   ]
  },
  {
   "cell_type": "markdown",
   "metadata": {
    "slideshow": {
     "slide_type": "subslide"
    }
   },
   "source": [
    "> Modern data science is a huge field, it invovles applications and tools like importing, tidying, transformation, visualization, modeling, and communication. Surrounding all these is programming.\n",
    "\n",
    "![Imgur](https://i.imgur.com/din6Ig6.png)\n",
    "\n",
    "Source: [R for Data Science](https://r4ds.had.co.nz/)"
   ]
  },
  {
   "cell_type": "markdown",
   "metadata": {
    "slideshow": {
     "slide_type": "subslide"
    }
   },
   "source": [
    "## The sarcastic ones\n",
    "\n",
    "![Imgur](https://i.imgur.com/vbczHMF.jpg)\n",
    "\n",
    "Source: <https://twitter.com/cdixon/status/428914681911070720/photo/1>"
   ]
  },
  {
   "cell_type": "markdown",
   "metadata": {
    "slideshow": {
     "slide_type": "subslide"
    }
   },
   "source": [
    "## The more serious ones\n",
    "\n",
    "![Imgur](https://i.imgur.com/6u4tw97.png)\n",
    "\n",
    "Source: <http://drewconway.com/>"
   ]
  },
  {
   "cell_type": "markdown",
   "metadata": {
    "slideshow": {
     "slide_type": "subslide"
    }
   },
   "source": [
    "## Well, even \"modern data science\" itself is a fancy word for...statistical analysis and data reconfiguration."
   ]
  },
  {
   "cell_type": "markdown",
   "metadata": {
    "slideshow": {
     "slide_type": "subslide"
    }
   },
   "source": [
    "## Meet my favorite character in TV show: Chandler Bing\n",
    "\n",
    "![](https://media.giphy.com/media/fA81FF4mdE6lgeoJwb/giphy.gif)\n",
    "\n",
    "Source: <https://giphy.com>"
   ]
  },
  {
   "cell_type": "markdown",
   "metadata": {
    "slideshow": {
     "slide_type": "subslide"
    }
   },
   "source": [
    "## What is Chandler Bing's job?\n",
    "\n",
    "![Imgur](https://i.imgur.com/DX7bQvS.png?1)\n",
    "\n",
    "Source: <https://www.warnerbros.com/tv/friends/>"
   ]
  },
  {
   "cell_type": "markdown",
   "metadata": {
    "slideshow": {
     "slide_type": "subslide"
    }
   },
   "source": [
    "![Imgur](https://i.imgur.com/QhZ2FDY.png?2)\n",
    "\n",
    "Source: <https://www.warnerbros.com/tv/friends/>"
   ]
  },
  {
   "cell_type": "markdown",
   "metadata": {
    "slideshow": {
     "slide_type": "subslide"
    }
   },
   "source": [
    "![Imgur](https://i.imgur.com/iZwdP9t.png?5)\n",
    "\n",
    "Source: <https://www.warnerbros.com/tv/friends/>"
   ]
  },
  {
   "cell_type": "markdown",
   "metadata": {
    "slideshow": {
     "slide_type": "slide"
    }
   },
   "source": [
    "## Topics we're gonna cover this semester"
   ]
  },
  {
   "cell_type": "markdown",
   "metadata": {
    "slideshow": {
     "slide_type": "subslide"
    }
   },
   "source": [
    "## Python, Python, and Python\n",
    "\n",
    "- Python programming.\n",
    "- Array computing with NumPy.\n",
    "- DataFrame Wrangling with Pandas.\n",
    "- Data Visualization with Matplotlib.\n",
    "- Web Scraping with Requests and BeautifulSoup4."
   ]
  },
  {
   "cell_type": "markdown",
   "metadata": {
    "slideshow": {
     "slide_type": "subslide"
    }
   },
   "source": [
    "## What is Python\n",
    "\n",
    "> Python is a clear and powerful object-oriented programming language.\n",
    "\n",
    "Source: <https://www.python.org/>"
   ]
  },
  {
   "cell_type": "markdown",
   "metadata": {
    "slideshow": {
     "slide_type": "subslide"
    }
   },
   "source": [
    "## We will use Python to tackle everything in the pipeline\n",
    "\n",
    "![Imgur](https://i.imgur.com/din6Ig6.png)\n",
    "\n",
    "Source: [R for Data Science](https://r4ds.had.co.nz/)"
   ]
  },
  {
   "cell_type": "markdown",
   "metadata": {
    "slideshow": {
     "slide_type": "subslide"
    }
   },
   "source": [
    "## So apparently, we will use tons of Python's mighty features\n",
    "\n",
    "- Built-in functions\n",
    "- Standard libraries\n",
    "- Third-party libraries"
   ]
  },
  {
   "cell_type": "markdown",
   "metadata": {
    "slideshow": {
     "slide_type": "subslide"
    }
   },
   "source": [
    "## Getting ready for programming with Python\n",
    "\n",
    "We are using [JupyterHub](https://jupyter.org/hub), [Binder](https://mybinder.org/) and [Google Colab](https://colab.research.google.com/)."
   ]
  },
  {
   "cell_type": "markdown",
   "metadata": {
    "slideshow": {
     "slide_type": "subslide"
    }
   },
   "source": [
    "## These services are all browser-based and notebook-based, so practically no \"environment\" for you to setup beforehand."
   ]
  },
  {
   "cell_type": "markdown",
   "metadata": {
    "slideshow": {
     "slide_type": "subslide"
    }
   },
   "source": [
    "## However, you will be asked to sign up with these credentials\n",
    "\n",
    "- `.edu.tw` mail: Our JupyterHub uses school email to authenticate users\n",
    "- Google: Colab uses google accounts"
   ]
  },
  {
   "cell_type": "markdown",
   "metadata": {
    "slideshow": {
     "slide_type": "subslide"
    }
   },
   "source": [
    "## Why Python? Why not...\n",
    "\n",
    "- R?\n",
    "- Matlab?\n",
    "- Julia?\n",
    "- SAS?\n",
    "- Scala?\n",
    "- ...etc."
   ]
  },
  {
   "cell_type": "markdown",
   "metadata": {
    "slideshow": {
     "slide_type": "subslide"
    }
   },
   "source": [
    "## Let's explore 2 questions in [2020 Kaggle ML & DS Survey](https://www.kaggle.com/c/kaggle-survey-2020)\n",
    "\n",
    "- What programming languages do you use on a regular basis? (Select all that apply)\n",
    "- What programming language would you recommend an aspiring data scientist to learn first?"
   ]
  },
  {
   "cell_type": "markdown",
   "metadata": {
    "slideshow": {
     "slide_type": "subslide"
    }
   },
   "source": [
    "## What is [Kaggle](https://kaggle.com/)\n",
    "\n",
    "> A subsidiary of Google, is an online community of data scientists and machine learning practitioners. Kaggle allows users to find and publish data sets, explore and build models in a web-based data-science environment, work with other data scientists and machine learning engineers, and enter competitions to solve data science challenges.\n",
    "\n",
    "Source: <https://en.wikipedia.org/wiki/Kaggle>"
   ]
  },
  {
   "cell_type": "code",
   "execution_count": 2,
   "metadata": {
    "slideshow": {
     "slide_type": "skip"
    }
   },
   "outputs": [],
   "source": [
    "from ks2020 import KaggleSurvey2020\n",
    "\n",
    "csv_file = \"https://kaggle-ml-ds-survey.s3-ap-northeast-1.amazonaws.com/kaggle-survey-2020/kaggle_survey_2020_responses.csv\"\n",
    "ks = KaggleSurvey2020(csv_file)"
   ]
  },
  {
   "cell_type": "code",
   "execution_count": 3,
   "metadata": {
    "slideshow": {
     "slide_type": "subslide"
    }
   },
   "outputs": [
    {
     "name": "stdout",
     "output_type": "stream",
     "text": [
      "What programming languages do you use on a regular basis? (Select all that apply)\n",
      "Too many categories, only showing the top 10.\n"
     ]
    },
    {
     "data": {
      "image/png": "[encoded data removed]",
      "text/plain": [
       "<Figure size 432x288 with 1 Axes>"
      ]
     },
     "metadata": {
      "needs_background": "light"
     },
     "output_type": "display_data"
    }
   ],
   "source": [
    "ks.plot_summary('Q7')"
   ]
  },
  {
   "cell_type": "code",
   "execution_count": 4,
   "metadata": {
    "slideshow": {
     "slide_type": "subslide"
    }
   },
   "outputs": [
    {
     "name": "stdout",
     "output_type": "stream",
     "text": [
      "What programming language would you recommend an aspiring data scientist to learn first?\n",
      "Too many categories, only showing the top 10.\n"
     ]
    },
    {
     "data": {
      "image/png": "[encoded data removed]",
      "text/plain": [
       "<Figure size 432x288 with 1 Axes>"
      ]
     },
     "metadata": {
      "needs_background": "light"
     },
     "output_type": "display_data"
    }
   ],
   "source": [
    "ks.plot_summary('Q8')"
   ]
  },
  {
   "cell_type": "markdown",
   "metadata": {
    "slideshow": {
     "slide_type": "subslide"
    }
   },
   "source": [
    "## Let's explore another plot at [Stack Overflow Trends](https://insights.stackoverflow.com/trends?tags=python%2Cr%2Cmatlab%2Cjulia%2Csas%2Cscala)"
   ]
  },
  {
   "cell_type": "markdown",
   "metadata": {
    "slideshow": {
     "slide_type": "subslide"
    }
   },
   "source": [
    "## The plots speak loud and clear."
   ]
  }
 ],
 "metadata": {
  "celltoolbar": "Slideshow",
  "kernelspec": {
   "display_name": "Python Machine Learning",
   "language": "python",
   "name": "pyml"
  },
  "language_info": {
   "codemirror_mode": {
    "name": "ipython",
    "version": 3
   },
   "file_extension": ".py",
   "mimetype": "text/x-python",
   "name": "python",
   "nbconvert_exporter": "python",
   "pygments_lexer": "ipython3",
   "version": "3.6.8"
  }
 },
 "nbformat": 4,
 "nbformat_minor": 2
}
